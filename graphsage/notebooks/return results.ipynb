{
 "cells": [
  {
   "cell_type": "code",
   "execution_count": 2,
   "metadata": {},
   "outputs": [],
   "source": [
    "import os \n",
    "os.chdir(os.path.pardir)"
   ]
  },
  {
   "cell_type": "code",
   "execution_count": 7,
   "metadata": {},
   "outputs": [],
   "source": [
    "os.chdir(os.path.pardir)"
   ]
  },
  {
   "cell_type": "code",
   "execution_count": null,
   "metadata": {},
   "outputs": [],
   "source": []
  },
  {
   "cell_type": "code",
   "execution_count": 8,
   "metadata": {},
   "outputs": [],
   "source": [
    "import graphsage.model"
   ]
  },
  {
   "cell_type": "code",
   "execution_count": 9,
   "metadata": {},
   "outputs": [],
   "source": [
    "from graphsage.model import run_cora"
   ]
  },
  {
   "cell_type": "code",
   "execution_count": 10,
   "metadata": {},
   "outputs": [
    {
     "name": "stderr",
     "output_type": "stream",
     "text": [
      "graphsage/encoders.py:31: UserWarning: nn.init.xavier_uniform is now deprecated in favor of nn.init.xavier_uniform_.\n",
      "  init.xavier_uniform(self.weight)\n",
      "graphsage/model.py:29: UserWarning: nn.init.xavier_uniform is now deprecated in favor of nn.init.xavier_uniform_.\n",
      "  init.xavier_uniform(self.weight)\n"
     ]
    },
    {
     "name": "stdout",
     "output_type": "stream",
     "text": [
      "Validation F1: 0.871\n",
      "Validation Acc: 0.871\n",
      "Average batch time: 0.10698046445846558\n"
     ]
    }
   ],
   "source": [
    "true, pred = run_cora()"
   ]
  },
  {
   "cell_type": "code",
   "execution_count": 12,
   "metadata": {},
   "outputs": [
    {
     "data": {
      "text/plain": [
       "array([2, 0, 2, 0, 0, 0, 4, 4, 4, 1, 0, 0, 0, 3, 4, 3, 0, 4, 4, 0, 4, 1,\n",
       "       4, 2, 4, 3, 0, 0, 0, 3, 5, 0, 3, 3, 6, 4, 0, 5, 5, 6, 6, 6, 0, 6,\n",
       "       0, 0, 5, 0, 2, 4, 4, 6, 2, 0, 2, 4, 4, 3, 3, 2, 3, 0, 2, 5, 2, 2,\n",
       "       2, 2, 2, 4, 0, 4, 0, 3, 4, 2, 0, 3, 6, 0, 6, 6, 6, 6, 0, 1, 0, 0,\n",
       "       2, 0, 0, 4, 0, 6, 6, 0, 4, 1, 1, 0, 0, 2, 5, 6, 0, 0, 5, 4, 0, 0,\n",
       "       0, 0, 6, 0, 4, 4, 0, 0, 1, 3, 0, 2, 0, 3, 5, 0, 0, 4, 0, 6, 0, 0,\n",
       "       4, 2, 6, 4, 2, 3, 4, 3, 4, 3, 3, 6, 2, 3, 3, 3, 0, 6, 2, 4, 1, 2,\n",
       "       1, 0, 2, 2, 5, 5, 4, 0, 4, 0, 0, 0, 0, 0, 0, 1, 6, 2, 4, 0, 0, 1,\n",
       "       0, 3, 0, 6, 0, 5, 2, 4, 3, 0, 4, 0, 6, 5, 0, 2, 1, 0, 3, 0, 0, 3,\n",
       "       0, 2, 2, 0, 0, 0, 3, 3, 4, 1, 0, 3, 4, 3, 5, 3, 5, 3, 0, 5, 0, 3,\n",
       "       1, 5, 4, 2, 0, 3, 0, 5, 5, 3, 0, 0, 4, 2, 2, 1, 0, 0, 2, 2, 4, 0,\n",
       "       3, 5, 5, 0, 0, 0, 3, 2, 2, 0, 6, 0, 4, 5, 1, 5, 5, 3, 6, 4, 4, 0,\n",
       "       2, 5, 0, 4, 3, 5, 0, 0, 3, 2, 0, 2, 3, 3, 4, 0, 5, 5, 6, 6, 3, 6,\n",
       "       4, 3, 3, 5, 4, 4, 4, 5, 4, 4, 0, 0, 4, 6, 5, 6, 3, 5, 2, 0, 6, 0,\n",
       "       0, 0, 0, 5, 0, 5, 0, 5, 0, 6, 6, 6, 0, 0, 4, 0, 6, 6, 0, 3, 0, 0,\n",
       "       0, 6, 0, 5, 0, 6, 4, 1, 3, 0, 0, 3, 2, 2, 5, 3, 5, 4, 4, 1, 3, 4,\n",
       "       3, 4, 5, 3, 5, 6, 6, 4, 5, 4, 6, 0, 0, 4, 0, 0, 2, 3, 2, 0, 0, 0,\n",
       "       0, 2, 4, 1, 0, 2, 5, 0, 2, 6, 4, 4, 0, 6, 3, 3, 0, 0, 3, 1, 3, 3,\n",
       "       3, 3, 3, 0, 5, 6, 5, 2, 3, 3, 0, 0, 0, 3, 5, 6, 0, 3, 0, 3, 0, 3,\n",
       "       0, 0, 3, 0, 6, 6, 4, 6, 4, 6, 6, 0, 0, 4, 4, 2, 5, 5, 2, 1, 0, 0,\n",
       "       5, 5, 5, 5, 3, 3, 0, 6, 0, 0, 3, 6, 3, 5, 3, 4, 5, 4, 5, 5, 4, 5,\n",
       "       0, 1, 5, 5, 5, 4, 0, 3, 5, 3, 5, 3, 5, 0, 3, 6, 0, 0, 0, 5, 5, 6,\n",
       "       4, 6, 6, 3, 2, 0, 0, 6, 6, 3, 6, 5, 3, 0, 3, 3, 4, 6, 6, 4, 4, 0,\n",
       "       4, 1, 1, 5, 1, 1, 2, 3, 0, 3, 5, 3, 5, 6, 4, 0, 0, 0, 4, 4, 4, 4,\n",
       "       0, 3, 5, 0, 4, 4, 5, 5, 5, 0, 0, 6, 6, 0, 0, 0, 0, 2, 6, 6, 4, 4,\n",
       "       0, 0, 0, 4, 5, 0, 0, 0, 0, 4, 5, 1, 0, 5, 3, 5, 0, 0, 0, 5, 5, 4,\n",
       "       0, 1, 4, 0, 3, 5, 3, 0, 0, 1, 1, 3, 6, 1, 3, 3, 5, 6, 3, 0, 4, 0,\n",
       "       0, 4, 5, 3, 5, 5, 0, 6, 6, 0, 0, 4, 5, 6, 3, 6, 5, 3, 0, 5, 5, 0,\n",
       "       0, 5, 2, 0, 0, 6, 6, 6, 4, 6, 6, 5, 3, 0, 5, 5, 4, 3, 0, 4, 5, 4,\n",
       "       6, 5, 5, 3, 5, 5, 0, 0, 0, 3, 6, 0, 0, 1, 6, 5, 6, 0, 3, 0, 3, 5,\n",
       "       4, 4, 3, 6, 6, 1, 5, 5, 3, 4, 4, 0, 3, 6, 4, 5, 0, 1, 5, 0, 1, 4,\n",
       "       1, 2, 5, 4, 3, 4, 6, 0, 0, 4, 2, 2, 6, 0, 0, 4, 4, 4, 0, 3, 2, 0,\n",
       "       5, 5, 5, 5, 1, 6, 6, 0, 6, 2, 6, 6, 5, 4, 5, 5, 0, 5, 0, 0, 5, 5,\n",
       "       4, 4, 2, 0, 5, 5, 5, 6, 4, 4, 4, 0, 4, 0, 3, 3, 0, 0, 1, 0, 0, 0,\n",
       "       6, 5, 0, 0, 0, 5, 0, 3, 4, 5, 0, 1, 1, 5, 0, 6, 5, 0, 4, 4, 3, 4,\n",
       "       4, 6, 0, 4, 5, 1, 3, 5, 6, 5, 4, 0, 0, 0, 0, 0, 5, 3, 3, 3, 4, 3,\n",
       "       4, 0, 3, 0, 4, 6, 0, 5, 0, 4, 6, 5, 6, 5, 0, 0, 3, 4, 0, 5, 4, 0,\n",
       "       2, 0, 2, 6, 0, 0, 0, 0, 4, 0, 3, 5, 3, 1, 6, 4, 5, 5, 5, 5, 5, 4,\n",
       "       4, 3, 3, 4, 0, 0, 0, 4, 6, 6, 0, 3, 6, 4, 1, 5, 0, 5, 6, 6, 0, 0,\n",
       "       4, 0, 4, 3, 5, 4, 4, 0, 0, 6, 6, 4, 6, 5, 3, 0, 0, 3, 2, 6, 2, 5,\n",
       "       5, 0, 0, 0, 0, 6, 4, 0, 4, 0, 4, 0, 5, 3, 4, 5, 5, 3, 0, 0, 4, 6,\n",
       "       4, 0, 5, 0, 3, 6, 5, 5, 5, 0, 4, 6, 3, 3, 6, 0, 0, 3, 6, 0, 0, 0,\n",
       "       5, 3, 6, 3, 1, 1, 4, 4, 5, 4, 1, 0, 3, 0, 2, 5, 2, 5, 6, 2, 4, 6,\n",
       "       0, 2, 6, 4, 0, 0, 3, 6, 4, 5, 4, 0, 3, 2, 4, 0, 0, 3, 0, 6, 5, 5,\n",
       "       4, 4, 0, 0, 0, 5, 5, 6, 5, 0, 3, 3, 4, 5, 4, 6, 4, 0, 1, 6, 0, 1,\n",
       "       0, 4, 0, 0, 0, 5, 6, 6, 6, 0])"
      ]
     },
     "execution_count": 12,
     "metadata": {},
     "output_type": "execute_result"
    }
   ],
   "source": [
    "pred"
   ]
  },
  {
   "cell_type": "code",
   "execution_count": 14,
   "metadata": {},
   "outputs": [],
   "source": [
    "true = true.reshape(-1)"
   ]
  },
  {
   "cell_type": "code",
   "execution_count": 18,
   "metadata": {},
   "outputs": [],
   "source": [
    "import numpy as np"
   ]
  },
  {
   "cell_type": "code",
   "execution_count": 22,
   "metadata": {},
   "outputs": [
    {
     "data": {
      "text/plain": [
       "871"
      ]
     },
     "execution_count": 22,
     "metadata": {},
     "output_type": "execute_result"
    }
   ],
   "source": [
    "np.sum((true - pred) == 0)"
   ]
  },
  {
   "cell_type": "code",
   "execution_count": 23,
   "metadata": {},
   "outputs": [],
   "source": [
    "from sklearn.metrics import f1_score"
   ]
  },
  {
   "cell_type": "code",
   "execution_count": 24,
   "metadata": {},
   "outputs": [
    {
     "data": {
      "text/plain": [
       "0.871"
      ]
     },
     "execution_count": 24,
     "metadata": {},
     "output_type": "execute_result"
    }
   ],
   "source": [
    "f1_score(true, pred, average=\"micro\")"
   ]
  },
  {
   "cell_type": "code",
   "execution_count": null,
   "metadata": {},
   "outputs": [],
   "source": []
  },
  {
   "cell_type": "code",
   "execution_count": 6,
   "metadata": {},
   "outputs": [
    {
     "data": {
      "text/plain": [
       "'/raid6/home/chenlin/desktop/graphsage-simple/graphsage'"
      ]
     },
     "execution_count": 6,
     "metadata": {},
     "output_type": "execute_result"
    }
   ],
   "source": [
    "os.getcwd()"
   ]
  }
 ],
 "metadata": {
  "kernelspec": {
   "display_name": "Python [conda env:py2]",
   "language": "python",
   "name": "conda-env-py2-py"
  },
  "language_info": {
   "codemirror_mode": {
    "name": "ipython",
    "version": 2
   },
   "file_extension": ".py",
   "mimetype": "text/x-python",
   "name": "python",
   "nbconvert_exporter": "python",
   "pygments_lexer": "ipython2",
   "version": "2.7.17"
  }
 },
 "nbformat": 4,
 "nbformat_minor": 2
}
